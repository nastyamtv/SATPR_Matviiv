{
 "cells": [
  {
   "cell_type": "markdown",
   "metadata": {},
   "source": [
    "<h2>Задача на прийняття рішення в умовах невизначеності</h2>\n",
    "<p>Є 5 варіантів вибору проекту охоронної системи підприємства: А1, А2, А3, А4, А5. В якості критеріїв виступають: К1 вартість (тис. грн.), К2 надійність, вірогідність безвідмовної роботи протягом терміну експлуатації, К3 - споживча потужність (кВт), К4 - електробезпека (бал).</p>\n",
    "<table>\n",
    "  <tr>\n",
    "    <td>Критерій/Альтернатива</td>\n",
    "    <td>K1</td>\n",
    "    <td>K2</td>\n",
    "    <td>K3</td>\n",
    "    <td>K4</td>\n",
    "  </tr>\n",
    "  <tr>\n",
    "    <td>A1</td>\n",
    "    <td>540</td>\n",
    "    <td>0.28</td>\n",
    "    <td>22</td>\n",
    "    <td>7</td>\n",
    "  </tr>\n",
    "    <tr>\n",
    "    <td>A2</td>\n",
    "    <td>480</td>\n",
    "    <td>0.22</td>\n",
    "    <td>10</td>\n",
    "    <td>6</td>\n",
    "  </tr>\n",
    "    <tr>\n",
    "    <td>A3</td>\n",
    "    <td>390</td>\n",
    "    <td>0.15</td>\n",
    "    <td>5</td>\n",
    "    <td>3</td>\n",
    "  </tr>\n",
    "    <tr>\n",
    "    <td>A4</td>\n",
    "    <td>500</td>\n",
    "    <td>0.24</td>\n",
    "    <td>13</td>\n",
    "    <td>8</td>\n",
    "  </tr>\n",
    "    <tr>\n",
    "    <td>A5</td>\n",
    "    <td>350</td>\n",
    "    <td>0.12</td>\n",
    "    <td>7</td>\n",
    "    <td>5</td>\n",
    "  </tr>\n",
    "    <tr>\n",
    "    <td>Вага</td>\n",
    "    <td>7</td>\n",
    "    <td>8</td>\n",
    "    <td>6</td>\n",
    "    <td>5</td>\n",
    "  </tr>\n",
    "</table>\n",
    "<p>З яким адвокатом найкраще співпрацювати?</p>"
   ]
  },
  {
   "cell_type": "code",
   "execution_count": 15,
   "metadata": {},
   "outputs": [
    {
     "name": "stdout",
     "output_type": "stream",
     "text": [
      "[[0.         0.         0.         0.2       ]\n",
      " [0.31578947 0.375      0.70588235 0.4       ]\n",
      " [0.78947368 0.8125     1.         1.        ]\n",
      " [0.21052632 0.25       0.52941176 0.        ]\n",
      " [1.         1.         0.88235294 0.6       ]]\n"
     ]
    }
   ],
   "source": [
    "import pandas as pd\n",
    "import numpy as np\n",
    "\n",
    "df = pd.read_csv('task.csv')\n",
    "matrix = df.values\n",
    "\n",
    "print(matrix)\n",
    "\n",
    "def log_result(array, value):\n",
    "    if (not isinstance(array, np.ndarray)):\n",
    "        return  \n",
    "    \n",
    "    indices = np.where(array == value)[0]\n",
    "\n",
    "    if (indices.size == 0):\n",
    "        return \n",
    "    print('Результат:', indices + 1)"
   ]
  },
  {
   "cell_type": "markdown",
   "metadata": {},
   "source": [
    "<h3>За критерієм Лапласа</h3>"
   ]
  },
  {
   "cell_type": "code",
   "execution_count": 16,
   "metadata": {},
   "outputs": [
    {
     "name": "stdout",
     "output_type": "stream",
     "text": [
      "F: 0.900493421\n",
      "Результат: [3]\n"
     ]
    }
   ],
   "source": [
    "row_means = np.mean(matrix, axis=1)\n",
    "f_max = np.max(row_means)\n",
    "print('F:', f_max)\n",
    "log_result(row_means, f_max)"
   ]
  },
  {
   "cell_type": "markdown",
   "metadata": {},
   "source": [
    "<h3>За критерієм Вальда</h3>"
   ]
  },
  {
   "cell_type": "code",
   "execution_count": 17,
   "metadata": {},
   "outputs": [
    {
     "name": "stdout",
     "output_type": "stream",
     "text": [
      "Fmax:  0.789473684\n",
      "Результат: [3]\n"
     ]
    }
   ],
   "source": [
    "row_min = np.min(matrix, axis=1)\n",
    "f_max = np.max(row_min)\n",
    "print('Fmax: ', f_max)\n",
    "log_result(row_min, f_max)"
   ]
  },
  {
   "cell_type": "markdown",
   "metadata": {},
   "source": [
    "<h3>За критерієм максимального оптимізму</h3>"
   ]
  },
  {
   "cell_type": "code",
   "execution_count": 18,
   "metadata": {},
   "outputs": [
    {
     "name": "stdout",
     "output_type": "stream",
     "text": [
      "Fmax:  1.0\n",
      "Результат: [3 3 5 5]\n"
     ]
    }
   ],
   "source": [
    "max = np.max(matrix)\n",
    "print('Fmax: ', max)\n",
    "log_result(matrix, max)"
   ]
  },
  {
   "cell_type": "markdown",
   "metadata": {},
   "source": [
    "<h3>За критерієм песимізму</h3>"
   ]
  },
  {
   "cell_type": "code",
   "execution_count": 19,
   "metadata": {},
   "outputs": [
    {
     "name": "stdout",
     "output_type": "stream",
     "text": [
      "Fmin:  0.0\n",
      "Результат: [1 4]\n"
     ]
    }
   ],
   "source": [
    "f_min = np.min(row_min)\n",
    "print('Fmin: ', f_min)\n",
    "log_result(row_min, f_min)"
   ]
  },
  {
   "cell_type": "markdown",
   "metadata": {},
   "source": [
    "<h3>За критерієм оптимізму</h3>"
   ]
  },
  {
   "cell_type": "code",
   "execution_count": 20,
   "metadata": {},
   "outputs": [
    {
     "name": "stdout",
     "output_type": "stream",
     "text": [
      "Fmax:  0.789473684\n",
      "Результат: [3]\n"
     ]
    }
   ],
   "source": [
    "f_max = np.max(row_min)\n",
    "print('Fmax: ', f_max)\n",
    "log_result(row_min, f_max)"
   ]
  },
  {
   "cell_type": "markdown",
   "metadata": {},
   "source": [
    "<h3>Критерій Севіджа</h3>"
   ]
  },
  {
   "cell_type": "code",
   "execution_count": 21,
   "metadata": {},
   "outputs": [
    {
     "name": "stdout",
     "output_type": "stream",
     "text": [
      "Матриця ризиків:\n",
      " [[1.         1.         1.         0.8       ]\n",
      " [0.68421053 0.625      0.29411765 0.6       ]\n",
      " [0.21052632 0.1875     0.         0.        ]\n",
      " [0.78947368 0.75       0.47058824 1.        ]\n",
      " [0.         0.         0.11764706 0.4       ]]\n",
      "Bmin:  0.21052631600000005\n",
      "Результат: [3]\n"
     ]
    }
   ],
   "source": [
    "max_cols = np.max(matrix, axis=0)\n",
    "risk_matrix = max_cols - matrix\n",
    "print('Матриця ризиків:\\n', risk_matrix)\n",
    "\n",
    "max_risk_rows = np.max(risk_matrix, axis=1)\n",
    "b_min = np.min(max_risk_rows)\n",
    "print('Bmin: ', b_min)\n",
    "log_result(max_risk_rows, b_min)"
   ]
  },
  {
   "cell_type": "markdown",
   "metadata": {},
   "source": [
    "<h3>За критерієм Гурвіца</h3>"
   ]
  },
  {
   "cell_type": "code",
   "execution_count": 23,
   "metadata": {},
   "outputs": [
    {
     "name": "stdout",
     "output_type": "stream",
     "text": [
      "Матриця коефіцієнтів довіри:\n",
      " [[0.         0.         0.         0.2       ]\n",
      " [0.31578947 0.375      0.70588235 0.4       ]\n",
      " [0.78947368 0.8125     1.         1.        ]\n",
      " [0.21052632 0.25       0.52941176 0.        ]\n",
      " [1.         1.         0.88235294 0.6       ]]\n",
      "Введений рівнозначний коефіцієнт довіри: 0.5\n",
      "Fmax: 0.8947368419999999\n",
      "Результат: [3]\n"
     ]
    }
   ],
   "source": [
    "trust_matrix = 1 - risk_matrix\n",
    "print('Матриця коефіцієнтів довіри:\\n', trust_matrix)\n",
    "\n",
    "trust_coef = 0.5\n",
    "print('Введений рівнозначний коефіцієнт довіри:', trust_coef)\n",
    "\n",
    "hurviz_results = np.max(trust_matrix, axis=1) * trust_coef + np.min(trust_matrix, axis=1) * (1 - trust_coef)\n",
    "hurviz_max = np.max(hurviz_results)\n",
    "print('Fmax:', hurviz_max)\n",
    "log_result(hurviz_results, hurviz_max)"
   ]
  }
 ],
 "metadata": {
  "kernelspec": {
   "display_name": "conda",
   "language": "python",
   "name": "python3"
  },
  "language_info": {
   "codemirror_mode": {
    "name": "ipython",
    "version": 3
   },
   "file_extension": ".py",
   "mimetype": "text/x-python",
   "name": "python",
   "nbconvert_exporter": "python",
   "pygments_lexer": "ipython3",
   "version": "3.10.13"
  }
 },
 "nbformat": 4,
 "nbformat_minor": 2
}
